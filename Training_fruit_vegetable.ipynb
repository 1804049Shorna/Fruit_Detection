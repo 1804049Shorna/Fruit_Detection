{
  "nbformat": 4,
  "nbformat_minor": 0,
  "metadata": {
    "colab": {
      "provenance": []
    },
    "kernelspec": {
      "name": "python3",
      "display_name": "Python 3"
    },
    "language_info": {
      "name": "python"
    }
  },
  "cells": [
    {
      "cell_type": "markdown",
      "source": [
        "Importing Dataset"
      ],
      "metadata": {
        "id": "z1wDokKpvlZq"
      }
    },
    {
      "cell_type": "code",
      "source": [
        "from google.colab import drive\n",
        "drive.mount('/content/drive')"
      ],
      "metadata": {
        "colab": {
          "base_uri": "https://localhost:8080/"
        },
        "id": "xLb7wf8Cvo-9",
        "outputId": "aa7d6182-24f7-44de-864c-c7930ee313b6"
      },
      "execution_count": null,
      "outputs": [
        {
          "output_type": "stream",
          "name": "stdout",
          "text": [
            "Drive already mounted at /content/drive; to attempt to forcibly remount, call drive.mount(\"/content/drive\", force_remount=True).\n"
          ]
        }
      ]
    },
    {
      "cell_type": "markdown",
      "source": [
        "Importing Libraries\n"
      ],
      "metadata": {
        "id": "EA0hNExT3rjW"
      }
    },
    {
      "cell_type": "code",
      "source": [
        "import numpy as np\n",
        "import tensorflow as tf\n",
        "from keras.preprocessing.image import ImageDataGenerator\n",
        "import matplotlib.pyplot as plt"
      ],
      "metadata": {
        "id": "lMTdLB8z4n6f"
      },
      "execution_count": null,
      "outputs": []
    },
    {
      "cell_type": "markdown",
      "source": [
        "Data preprocessing"
      ],
      "metadata": {
        "id": "rxxl88zA43CZ"
      }
    },
    {
      "cell_type": "markdown",
      "source": [
        "Training Image preprocessing"
      ],
      "metadata": {
        "id": "nm9qIyzi5rzT"
      }
    },
    {
      "cell_type": "code",
      "source": [
        "training_set = tf.keras.utils.image_dataset_from_directory(\n",
        "    '/content/drive/MyDrive/Fruit Recognition System/train',\n",
        "    labels=\"inferred\",\n",
        "    label_mode=\"categorical\",\n",
        "    class_names=None,\n",
        "    color_mode=\"rgb\",\n",
        "    batch_size=32,\n",
        "    image_size=(64, 64),\n",
        "    shuffle=True,\n",
        "    seed=None,\n",
        "    validation_split=None,\n",
        "    subset=None,\n",
        "    interpolation=\"bilinear\",\n",
        "    follow_links=False,\n",
        "    crop_to_aspect_ratio=False\n",
        "\n",
        ")"
      ],
      "metadata": {
        "colab": {
          "base_uri": "https://localhost:8080/"
        },
        "id": "KMhy3kUa5wu6",
        "outputId": "065a993b-b8ec-46fa-9b76-815f8ae5851e"
      },
      "execution_count": null,
      "outputs": [
        {
          "output_type": "stream",
          "name": "stdout",
          "text": [
            "Found 3217 files belonging to 36 classes.\n"
          ]
        }
      ]
    },
    {
      "cell_type": "markdown",
      "source": [
        "Validation Image preprocessing\n"
      ],
      "metadata": {
        "id": "OeQ03nXq-zdv"
      }
    },
    {
      "cell_type": "code",
      "source": [
        "test_set = tf.keras.utils.image_dataset_from_directory(\n",
        "    '/content/drive/MyDrive/Fruit Recognition System/validation',\n",
        "    labels=\"inferred\",\n",
        "    label_mode=\"categorical\",\n",
        "    class_names=None,\n",
        "    color_mode=\"rgb\",\n",
        "    batch_size=32,\n",
        "    image_size=(64, 64),\n",
        "    shuffle=True,\n",
        "    seed=None,\n",
        "    validation_split=None,\n",
        "    subset=None,\n",
        "    interpolation=\"bilinear\",\n",
        "    follow_links=False,\n",
        "    crop_to_aspect_ratio=False\n",
        ")"
      ],
      "metadata": {
        "colab": {
          "base_uri": "https://localhost:8080/"
        },
        "id": "rVxZEA7X_JyQ",
        "outputId": "b7df4caf-ca83-4260-a2cd-d61bede07895"
      },
      "execution_count": null,
      "outputs": [
        {
          "output_type": "stream",
          "name": "stdout",
          "text": [
            "Found 359 files belonging to 36 classes.\n"
          ]
        }
      ]
    },
    {
      "cell_type": "markdown",
      "source": [
        "Building model\n"
      ],
      "metadata": {
        "id": "4KhhIn99Abr_"
      }
    },
    {
      "cell_type": "code",
      "source": [
        "cnn = tf.keras.models.Sequential()"
      ],
      "metadata": {
        "id": "rT15g_fqEo4n"
      },
      "execution_count": null,
      "outputs": []
    },
    {
      "cell_type": "markdown",
      "source": [
        "Building Convolution layer"
      ],
      "metadata": {
        "id": "x8XQoOn6ErgI"
      }
    },
    {
      "cell_type": "code",
      "source": [
        "cnn.add(tf.keras.layers.Conv2D(filters=64,kernel_size=3,activation='relu',input_shape=[64,64,3]))\n",
        "cnn.add(tf.keras.layers.MaxPool2D(pool_size=2,strides=2))"
      ],
      "metadata": {
        "id": "0lqxRUGzE1bm"
      },
      "execution_count": null,
      "outputs": []
    },
    {
      "cell_type": "code",
      "source": [
        "cnn.add(tf.keras.layers.Conv2D(filters=64,kernel_size=3,activation='relu'))\n",
        "cnn.add(tf.keras.layers.MaxPool2D(pool_size=2,strides=2))"
      ],
      "metadata": {
        "id": "pNiuC8bOHi3e"
      },
      "execution_count": null,
      "outputs": []
    },
    {
      "cell_type": "code",
      "source": [
        "cnn.add(tf.keras.layers.Dropout(0.5))"
      ],
      "metadata": {
        "id": "7OqL6k4jH8zu"
      },
      "execution_count": null,
      "outputs": []
    },
    {
      "cell_type": "code",
      "source": [
        "cnn.add(tf.keras.layers.Flatten())"
      ],
      "metadata": {
        "id": "fElFlMgEINAp"
      },
      "execution_count": null,
      "outputs": []
    },
    {
      "cell_type": "code",
      "source": [
        "cnn.add(tf.keras.layers.Dense(units=128,activation='relu'))"
      ],
      "metadata": {
        "id": "J7vbBhp0IscT"
      },
      "execution_count": null,
      "outputs": []
    },
    {
      "cell_type": "code",
      "source": [
        "cnn.add(tf.keras.layers.Dense(units=36,activation='softmax'))"
      ],
      "metadata": {
        "id": "jjZv_euVJFf3"
      },
      "execution_count": null,
      "outputs": []
    },
    {
      "cell_type": "markdown",
      "source": [
        "Compiling and training Phase"
      ],
      "metadata": {
        "id": "oCpOKMmMJ_W2"
      }
    },
    {
      "cell_type": "code",
      "source": [
        "cnn.compile(optimizer='rmsprop',loss='categorical_crossentropy', metrics=['accuracy'])"
      ],
      "metadata": {
        "id": "LksIKbWTKFGG"
      },
      "execution_count": null,
      "outputs": []
    },
    {
      "cell_type": "code",
      "source": [
        "training_history = cnn.fit(x=training_set,validation_data=test_set,epochs=30)"
      ],
      "metadata": {
        "colab": {
          "base_uri": "https://localhost:8080/"
        },
        "id": "CX00qB-_KggC",
        "outputId": "cb958505-4591-4d86-95ef-a172459d15b9"
      },
      "execution_count": null,
      "outputs": [
        {
          "output_type": "stream",
          "name": "stdout",
          "text": [
            "Epoch 1/30\n",
            "101/101 [==============================] - 111s 1s/step - loss: 3.1774 - accuracy: 0.3671 - val_loss: 1.7932 - val_accuracy: 0.6156\n",
            "Epoch 2/30\n",
            "101/101 [==============================] - 105s 998ms/step - loss: 2.6027 - accuracy: 0.4249 - val_loss: 1.5992 - val_accuracy: 0.6546\n",
            "Epoch 3/30\n",
            "101/101 [==============================] - 101s 965ms/step - loss: 2.4372 - accuracy: 0.4765 - val_loss: 1.5988 - val_accuracy: 0.6769\n",
            "Epoch 4/30\n",
            "101/101 [==============================] - 101s 962ms/step - loss: 2.4762 - accuracy: 0.5216 - val_loss: 1.6361 - val_accuracy: 0.7549\n",
            "Epoch 5/30\n",
            "101/101 [==============================] - 105s 1s/step - loss: 1.7531 - accuracy: 0.5791 - val_loss: 1.9811 - val_accuracy: 0.6184\n",
            "Epoch 6/30\n",
            "101/101 [==============================] - 103s 983ms/step - loss: 1.8524 - accuracy: 0.6127 - val_loss: 2.2692 - val_accuracy: 0.6212\n",
            "Epoch 7/30\n",
            "101/101 [==============================] - 105s 1s/step - loss: 1.9041 - accuracy: 0.6379 - val_loss: 4.1874 - val_accuracy: 0.5209\n",
            "Epoch 8/30\n",
            "101/101 [==============================] - 102s 974ms/step - loss: 1.4717 - accuracy: 0.6764 - val_loss: 1.3101 - val_accuracy: 0.8134\n",
            "Epoch 9/30\n",
            "101/101 [==============================] - 104s 995ms/step - loss: 1.4301 - accuracy: 0.6960 - val_loss: 3.8552 - val_accuracy: 0.5877\n",
            "Epoch 10/30\n",
            "101/101 [==============================] - 108s 1s/step - loss: 1.5052 - accuracy: 0.7075 - val_loss: 1.1799 - val_accuracy: 0.8635\n",
            "Epoch 11/30\n",
            "101/101 [==============================] - 105s 998ms/step - loss: 1.3861 - accuracy: 0.7389 - val_loss: 1.5492 - val_accuracy: 0.7716\n",
            "Epoch 12/30\n",
            "101/101 [==============================] - 101s 968ms/step - loss: 1.2697 - accuracy: 0.7463 - val_loss: 1.2926 - val_accuracy: 0.8384\n",
            "Epoch 13/30\n",
            "101/101 [==============================] - 103s 987ms/step - loss: 1.3260 - accuracy: 0.7538 - val_loss: 1.3757 - val_accuracy: 0.8384\n",
            "Epoch 14/30\n",
            "101/101 [==============================] - 102s 968ms/step - loss: 1.1459 - accuracy: 0.7743 - val_loss: 6.1557 - val_accuracy: 0.5097\n",
            "Epoch 15/30\n",
            "101/101 [==============================] - 110s 1s/step - loss: 1.3231 - accuracy: 0.7818 - val_loss: 1.3725 - val_accuracy: 0.8969\n",
            "Epoch 16/30\n",
            "101/101 [==============================] - 102s 968ms/step - loss: 0.9407 - accuracy: 0.8042 - val_loss: 1.2166 - val_accuracy: 0.9136\n",
            "Epoch 17/30\n",
            "101/101 [==============================] - 101s 966ms/step - loss: 1.0622 - accuracy: 0.8045 - val_loss: 1.5404 - val_accuracy: 0.9109\n",
            "Epoch 18/30\n",
            "101/101 [==============================] - 103s 985ms/step - loss: 1.1016 - accuracy: 0.8182 - val_loss: 1.6149 - val_accuracy: 0.9164\n",
            "Epoch 19/30\n",
            " 47/101 [============>.................] - ETA: 51s - loss: 0.9291 - accuracy: 0.8471"
          ]
        }
      ]
    },
    {
      "cell_type": "markdown",
      "source": [
        "Saving Model\n"
      ],
      "metadata": {
        "id": "xCqOBwZsHHkF"
      }
    },
    {
      "cell_type": "code",
      "source": [
        "cnn.save('trained_model.h5')"
      ],
      "metadata": {
        "id": "s1RLSSGkHOFD"
      },
      "execution_count": null,
      "outputs": []
    },
    {
      "cell_type": "code",
      "source": [
        "#Recording History in JSON format\n",
        "import json\n",
        "with open('training_hist.json', 'w') as f:\n",
        "    json.dump(training_history.history, f)"
      ],
      "metadata": {
        "id": "iUF0y4l8HkUD"
      },
      "execution_count": null,
      "outputs": []
    },
    {
      "cell_type": "code",
      "source": [
        "training_history.history"
      ],
      "metadata": {
        "colab": {
          "base_uri": "https://localhost:8080/"
        },
        "id": "_T2C6KTgH2Dl",
        "outputId": "20da6916-e673-4726-a4b7-4e5d09ebd7cb"
      },
      "execution_count": null,
      "outputs": [
        {
          "output_type": "execute_result",
          "data": {
            "text/plain": [
              "{'loss': [11.045400619506836,\n",
              "  4.653738975524902,\n",
              "  3.710763692855835,\n",
              "  3.6197824478149414,\n",
              "  3.581768035888672,\n",
              "  3.593733549118042,\n",
              "  3.5775868892669678,\n",
              "  3.58294677734375,\n",
              "  3.5769546031951904,\n",
              "  3.5862903594970703,\n",
              "  3.5745105743408203,\n",
              "  3.5690765380859375,\n",
              "  3.575274705886841,\n",
              "  3.6945719718933105,\n",
              "  3.5785248279571533,\n",
              "  3.589003801345825,\n",
              "  3.58343768119812,\n",
              "  3.6387624740600586,\n",
              "  3.578839063644409,\n",
              "  3.571556806564331,\n",
              "  3.5687978267669678,\n",
              "  3.572188377380371,\n",
              "  3.566840171813965,\n",
              "  3.564624071121216,\n",
              "  3.5647382736206055,\n",
              "  3.565767288208008,\n",
              "  3.565608263015747,\n",
              "  3.5769617557525635,\n",
              "  3.5712227821350098,\n",
              "  3.56268048286438],\n",
              " 'accuracy': [0.051897503435611725,\n",
              "  0.08952318876981735,\n",
              "  0.03470645472407341,\n",
              "  0.029192345216870308,\n",
              "  0.031462859362363815,\n",
              "  0.029841063544154167,\n",
              "  0.03340901806950569,\n",
              "  0.03405773639678955,\n",
              "  0.03243593871593475,\n",
              "  0.03697697073221207,\n",
              "  0.037625689059495926,\n",
              "  0.037625689059495926,\n",
              "  0.037625689059495926,\n",
              "  0.037950050085783005,\n",
              "  0.039571844041347504,\n",
              "  0.038923125714063644,\n",
              "  0.04022056609392166,\n",
              "  0.04022056609392166,\n",
              "  0.039571844041347504,\n",
              "  0.038923125714063644,\n",
              "  0.039571844041347504,\n",
              "  0.039571844041347504,\n",
              "  0.038923125714063644,\n",
              "  0.038923125714063644,\n",
              "  0.03924748674035072,\n",
              "  0.03924748674035072,\n",
              "  0.03924748674035072,\n",
              "  0.04022056609392166,\n",
              "  0.03924748674035072,\n",
              "  0.039571844041347504],\n",
              " 'val_loss': [7.929914474487305,\n",
              "  4.192576885223389,\n",
              "  3.5831642150878906,\n",
              "  3.5833723545074463,\n",
              "  3.5836069583892822,\n",
              "  3.583889961242676,\n",
              "  3.584277629852295,\n",
              "  3.584616184234619,\n",
              "  3.5850021839141846,\n",
              "  3.5854063034057617,\n",
              "  3.585779905319214,\n",
              "  3.586181640625,\n",
              "  3.5864675045013428,\n",
              "  3.5868546962738037,\n",
              "  3.5872271060943604,\n",
              "  3.589003324508667,\n",
              "  3.6081089973449707,\n",
              "  3.5882365703582764,\n",
              "  3.5884580612182617,\n",
              "  3.5887343883514404,\n",
              "  3.5890450477600098,\n",
              "  3.5893118381500244,\n",
              "  3.589517593383789,\n",
              "  3.589656114578247,\n",
              "  3.589708089828491,\n",
              "  3.5899205207824707,\n",
              "  3.590109348297119,\n",
              "  3.5901691913604736,\n",
              "  3.596358060836792,\n",
              "  3.590409994125366],\n",
              " 'val_accuracy': [0.054054055362939835,\n",
              "  0.030405405908823013,\n",
              "  0.02364864945411682,\n",
              "  0.02364864945411682,\n",
              "  0.02364864945411682,\n",
              "  0.02364864945411682,\n",
              "  0.02364864945411682,\n",
              "  0.03378378227353096,\n",
              "  0.020270269364118576,\n",
              "  0.020270269364118576,\n",
              "  0.020270269364118576,\n",
              "  0.020270269364118576,\n",
              "  0.020270269364118576,\n",
              "  0.020270269364118576,\n",
              "  0.020270269364118576,\n",
              "  0.020270269364118576,\n",
              "  0.020270269364118576,\n",
              "  0.020270269364118576,\n",
              "  0.020270269364118576,\n",
              "  0.020270269364118576,\n",
              "  0.020270269364118576,\n",
              "  0.020270269364118576,\n",
              "  0.020270269364118576,\n",
              "  0.020270269364118576,\n",
              "  0.020270269364118576,\n",
              "  0.020270269364118576,\n",
              "  0.020270269364118576,\n",
              "  0.020270269364118576,\n",
              "  0.020270269364118576,\n",
              "  0.020270269364118576]}"
            ]
          },
          "metadata": {},
          "execution_count": 21
        }
      ]
    },
    {
      "cell_type": "code",
      "source": [
        "print(training_history.history.keys())"
      ],
      "metadata": {
        "colab": {
          "base_uri": "https://localhost:8080/"
        },
        "id": "lVYgkxAtIIsD",
        "outputId": "5284d107-e50a-44e3-8854-4b7ba8f62de0"
      },
      "execution_count": null,
      "outputs": [
        {
          "output_type": "stream",
          "name": "stdout",
          "text": [
            "dict_keys(['loss', 'accuracy', 'val_loss', 'val_accuracy'])\n"
          ]
        }
      ]
    },
    {
      "cell_type": "markdown",
      "source": [
        "Calculating Accuracy of Model Achieved on Test set"
      ],
      "metadata": {
        "id": "Fm0RZJlIIS6H"
      }
    },
    {
      "cell_type": "code",
      "source": [
        "print('Test set Accuracy: {} %'.format(training_history.history['val_accuracy'][-1]*100))"
      ],
      "metadata": {
        "colab": {
          "base_uri": "https://localhost:8080/"
        },
        "id": "nlKD-ByOIVu7",
        "outputId": "d9a6a770-48a6-4d66-8cd3-7b6d0e44791c"
      },
      "execution_count": null,
      "outputs": [
        {
          "output_type": "stream",
          "name": "stdout",
          "text": [
            "Test set Accuracy: 2.0270269364118576 %\n"
          ]
        }
      ]
    },
    {
      "cell_type": "markdown",
      "source": [
        "Accuracy Visualization"
      ],
      "metadata": {
        "id": "1zYbuyJnJcEO"
      }
    },
    {
      "cell_type": "markdown",
      "source": [
        "Training Visualization"
      ],
      "metadata": {
        "id": "yQKoy0AoJiqt"
      }
    },
    {
      "cell_type": "code",
      "source": [
        "epochs=[i for i in range(1,31)]\n",
        "plt.plot(epochs,training_history.history['accuracy'],color='red')\n",
        "plt.xlabel('Epochs')\n",
        "plt.ylabel('Training Accuracy')\n",
        "plt.title(\"Visualization of Training Accuracy Result\")\n",
        "plt.show()"
      ],
      "metadata": {
        "id": "g1uOFdb-Jl3J"
      },
      "execution_count": null,
      "outputs": []
    },
    {
      "cell_type": "markdown",
      "source": [
        "Validation Visualization"
      ],
      "metadata": {
        "id": "EPWh8RuUKGCN"
      }
    },
    {
      "cell_type": "code",
      "source": [
        "plt.plot(epochs,training_history.history['val_accuracy'],color='cyan')\n",
        "plt.xlabel('Epochs')\n",
        "plt.ylabel('Validation Accuracy')\n",
        "plt.title(\"Visualization of Validation Accuracy Result\")\n",
        "plt.show()"
      ],
      "metadata": {
        "colab": {
          "base_uri": "https://localhost:8080/",
          "height": 295
        },
        "id": "DJA5SnU3KJDm",
        "outputId": "8bd41412-6336-4552-9e6a-17722041ec16"
      },
      "execution_count": null,
      "outputs": [
        {
          "output_type": "display_data",
          "data": {
            "text/plain": [
              "<Figure size 432x288 with 1 Axes>"
            ],
            "image/png": "[encoded data removed]"
          },
          "metadata": {
            "needs_background": "light"
          }
        }
      ]
    }
  ]
}